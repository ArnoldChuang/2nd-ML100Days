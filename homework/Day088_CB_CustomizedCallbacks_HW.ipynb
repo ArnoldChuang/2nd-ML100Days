{
 "cells": [
  {
   "cell_type": "markdown",
   "metadata": {},
   "source": [
    "## Work\n",
    "1. 請嘗試寫一個 callback 用來記錄各類別在訓練過程中，對驗證集的 True Positive 與 True Negative"
   ]
  },
  {
   "cell_type": "code",
   "execution_count": 1,
   "metadata": {},
   "outputs": [
    {
     "name": "stderr",
     "output_type": "stream",
     "text": [
      "Using TensorFlow backend.\n"
     ]
    }
   ],
   "source": [
    "import os\n",
    "import keras\n",
    "\n",
    "# Disable GPU\n",
    "os.environ[\"CUDA_VISIBLE_DEVICES\"] = \"\""
   ]
  },
  {
   "cell_type": "code",
   "execution_count": 2,
   "metadata": {},
   "outputs": [],
   "source": [
    "train, test = keras.datasets.cifar10.load_data()"
   ]
  },
  {
   "cell_type": "code",
   "execution_count": 3,
   "metadata": {},
   "outputs": [],
   "source": [
    "## 資料前處理\n",
    "def preproc_x(x, flatten=True):\n",
    "    x = x / 255.\n",
    "    if flatten:\n",
    "        x = x.reshape((len(x), -1))\n",
    "    return x\n",
    "\n",
    "def preproc_y(y, num_classes=10):\n",
    "    if y.shape[-1] == 1:\n",
    "        y = keras.utils.to_categorical(y, num_classes)\n",
    "    return y    "
   ]
  },
  {
   "cell_type": "code",
   "execution_count": 4,
   "metadata": {},
   "outputs": [],
   "source": [
    "x_train, y_train = train\n",
    "x_test, y_test = test\n",
    "\n",
    "# Preproc the inputs\n",
    "x_train = preproc_x(x_train)\n",
    "x_test = preproc_x(x_test)\n",
    "\n",
    "# Preprc the outputs\n",
    "y_train = preproc_y(y_train)\n",
    "y_test = preproc_y(y_test)"
   ]
  },
  {
   "cell_type": "code",
   "execution_count": 5,
   "metadata": {},
   "outputs": [],
   "source": [
    "from keras.layers import BatchNormalization\n",
    "\n",
    "\"\"\"\n",
    "建立神經網路，並加入 BN layer\n",
    "\"\"\"\n",
    "def build_mlp(input_shape, output_units=10, num_neurons=[512, 256, 128]):\n",
    "    input_layer = keras.layers.Input(input_shape)\n",
    "    \n",
    "    for i, n_units in enumerate(num_neurons):\n",
    "        if i == 0:\n",
    "            x = keras.layers.Dense(units=n_units, \n",
    "                                   activation=\"relu\", \n",
    "                                   name=\"hidden_layer\"+str(i+1))(input_layer)\n",
    "            x = BatchNormalization()(x)\n",
    "        else:\n",
    "            x = keras.layers.Dense(units=n_units, \n",
    "                                   activation=\"relu\", \n",
    "                                   name=\"hidden_layer\"+str(i+1))(x)\n",
    "            x = BatchNormalization()(x)\n",
    "    \n",
    "    out = keras.layers.Dense(units=output_units, activation=\"softmax\", name=\"output\")(x)\n",
    "    \n",
    "    model = keras.models.Model(inputs=[input_layer], outputs=[out])\n",
    "    return model"
   ]
  },
  {
   "cell_type": "code",
   "execution_count": 6,
   "metadata": {},
   "outputs": [],
   "source": [
    "## 超參數設定\n",
    "LEARNING_RATE = 1e-3\n",
    "EPOCHS = 25\n",
    "BATCH_SIZE = 1024\n",
    "MOMENTUM = 0.95"
   ]
  },
  {
   "cell_type": "code",
   "execution_count": 7,
   "metadata": {},
   "outputs": [],
   "source": [
    "# 載入 Callbacks\n",
    "from keras.callbacks import Callback\n",
    "\n",
    "# Record_fp_tp\n",
    "class Record_tp_tn(Callback):\n",
    "    def on_train_begin(self, epoch, logs = {}):\n",
    "        logs = logs or {}\n",
    "        record_items = [\"val_tp\", \"val_tn\"]\n",
    "        for i in record_items:\n",
    "            if i not in self.params['metrics']:\n",
    "                self.params['metrics'].append(i)\n",
    "    \n",
    "    def on_epoch_end(self, epoch, logs = {}, thres=0.5):\n",
    "        logs = logs or {}\n",
    "        y_true = self.validation_data[1].argmax(axis = 1)\n",
    "        y_pred = self.model.predict(self.validation_data[0])\n",
    "        y_pred = (y_pred[:, 1] >= thres) * 1\n",
    "        \n",
    "        \"\"\"Code Here\n",
    "        撰寫一個紀錄 ture positive 與 true negative 數量的 callbacks    \n",
    "        \"\"\"\n",
    "        val_tp = sum(y_true*y_pred)\n",
    "        val_tn = sum((y_true==0) & (y_pred==0))\n",
    "        \n",
    "        logs[\"val_tp\"] = val_tp\n",
    "        logs[\"val_tn\"] = val_tn\n",
    "        \n",
    "rec_tptn = Record_tp_tn()"
   ]
  },
  {
   "cell_type": "code",
   "execution_count": 8,
   "metadata": {
    "scrolled": true
   },
   "outputs": [
    {
     "name": "stderr",
     "output_type": "stream",
     "text": [
      "WARNING: Logging before flag parsing goes to stderr.\n",
      "W0723 15:40:29.975095 21508 deprecation_wrapper.py:119] From D:\\Anaconda3\\lib\\site-packages\\keras\\backend\\tensorflow_backend.py:74: The name tf.get_default_graph is deprecated. Please use tf.compat.v1.get_default_graph instead.\n",
      "\n",
      "W0723 15:40:29.986066 21508 deprecation_wrapper.py:119] From D:\\Anaconda3\\lib\\site-packages\\keras\\backend\\tensorflow_backend.py:517: The name tf.placeholder is deprecated. Please use tf.compat.v1.placeholder instead.\n",
      "\n",
      "W0723 15:40:29.989032 21508 deprecation_wrapper.py:119] From D:\\Anaconda3\\lib\\site-packages\\keras\\backend\\tensorflow_backend.py:4138: The name tf.random_uniform is deprecated. Please use tf.random.uniform instead.\n",
      "\n",
      "W0723 15:40:30.037923 21508 deprecation_wrapper.py:119] From D:\\Anaconda3\\lib\\site-packages\\keras\\backend\\tensorflow_backend.py:133: The name tf.placeholder_with_default is deprecated. Please use tf.compat.v1.placeholder_with_default instead.\n",
      "\n",
      "W0723 15:40:30.218444 21508 deprecation_wrapper.py:119] From D:\\Anaconda3\\lib\\site-packages\\keras\\optimizers.py:790: The name tf.train.Optimizer is deprecated. Please use tf.compat.v1.train.Optimizer instead.\n",
      "\n",
      "W0723 15:40:30.223430 21508 deprecation_wrapper.py:119] From D:\\Anaconda3\\lib\\site-packages\\keras\\backend\\tensorflow_backend.py:3295: The name tf.log is deprecated. Please use tf.math.log instead.\n",
      "\n",
      "W0723 15:40:30.288259 21508 deprecation.py:323] From D:\\Anaconda3\\lib\\site-packages\\tensorflow\\python\\ops\\math_grad.py:1250: add_dispatch_support.<locals>.wrapper (from tensorflow.python.ops.array_ops) is deprecated and will be removed in a future version.\n",
      "Instructions for updating:\n",
      "Use tf.where in 2.0, which has the same broadcast rule as np.where\n"
     ]
    },
    {
     "name": "stdout",
     "output_type": "stream",
     "text": [
      "_________________________________________________________________\n",
      "Layer (type)                 Output Shape              Param #   \n",
      "=================================================================\n",
      "input_1 (InputLayer)         (None, 3072)              0         \n",
      "_________________________________________________________________\n",
      "hidden_layer1 (Dense)        (None, 512)               1573376   \n",
      "_________________________________________________________________\n",
      "batch_normalization_1 (Batch (None, 512)               2048      \n",
      "_________________________________________________________________\n",
      "hidden_layer2 (Dense)        (None, 256)               131328    \n",
      "_________________________________________________________________\n",
      "batch_normalization_2 (Batch (None, 256)               1024      \n",
      "_________________________________________________________________\n",
      "hidden_layer3 (Dense)        (None, 128)               32896     \n",
      "_________________________________________________________________\n",
      "batch_normalization_3 (Batch (None, 128)               512       \n",
      "_________________________________________________________________\n",
      "output (Dense)               (None, 10)                1290      \n",
      "=================================================================\n",
      "Total params: 1,742,474\n",
      "Trainable params: 1,740,682\n",
      "Non-trainable params: 1,792\n",
      "_________________________________________________________________\n",
      "Train on 50000 samples, validate on 10000 samples\n",
      "Epoch 1/25\n",
      "50000/50000 [==============================] - 4s 81us/step - loss: 2.2045 - acc: 0.2719 - val_loss: 2.0743 - val_acc: 0.3234\n",
      "Epoch 2/25\n",
      "50000/50000 [==============================] - 3s 69us/step - loss: 1.7391 - acc: 0.3941 - val_loss: 1.8551 - val_acc: 0.3630\n",
      "Epoch 3/25\n",
      "50000/50000 [==============================] - 3s 69us/step - loss: 1.6185 - acc: 0.4324 - val_loss: 1.7045 - val_acc: 0.4062\n",
      "Epoch 4/25\n",
      "50000/50000 [==============================] - 3s 69us/step - loss: 1.5472 - acc: 0.4562 - val_loss: 1.6363 - val_acc: 0.4296\n",
      "Epoch 5/25\n",
      "50000/50000 [==============================] - 3s 69us/step - loss: 1.4938 - acc: 0.4754 - val_loss: 1.5997 - val_acc: 0.4362\n",
      "Epoch 6/25\n",
      "50000/50000 [==============================] - 3s 69us/step - loss: 1.4497 - acc: 0.4911 - val_loss: 1.5761 - val_acc: 0.4459\n",
      "Epoch 7/25\n",
      "50000/50000 [==============================] - 3s 69us/step - loss: 1.4099 - acc: 0.5061 - val_loss: 1.5625 - val_acc: 0.4514\n",
      "Epoch 8/25\n",
      "50000/50000 [==============================] - 3s 69us/step - loss: 1.3741 - acc: 0.5184 - val_loss: 1.5423 - val_acc: 0.4583\n",
      "Epoch 9/25\n",
      "50000/50000 [==============================] - 3s 68us/step - loss: 1.3422 - acc: 0.5306 - val_loss: 1.5297 - val_acc: 0.4696\n",
      "Epoch 10/25\n",
      "50000/50000 [==============================] - 3s 68us/step - loss: 1.3129 - acc: 0.5404 - val_loss: 1.5155 - val_acc: 0.4702\n",
      "Epoch 11/25\n",
      "50000/50000 [==============================] - 3s 70us/step - loss: 1.2839 - acc: 0.5526 - val_loss: 1.5031 - val_acc: 0.4754\n",
      "Epoch 12/25\n",
      "50000/50000 [==============================] - 3s 68us/step - loss: 1.2570 - acc: 0.5608 - val_loss: 1.4893 - val_acc: 0.4827\n",
      "Epoch 13/25\n",
      "50000/50000 [==============================] - 3s 68us/step - loss: 1.2313 - acc: 0.5714 - val_loss: 1.4840 - val_acc: 0.4818\n",
      "Epoch 14/25\n",
      "50000/50000 [==============================] - 3s 69us/step - loss: 1.2052 - acc: 0.5814 - val_loss: 1.4705 - val_acc: 0.4877\n",
      "Epoch 15/25\n",
      "50000/50000 [==============================] - 3s 69us/step - loss: 1.1828 - acc: 0.5895 - val_loss: 1.4700 - val_acc: 0.4902\n",
      "Epoch 16/25\n",
      "50000/50000 [==============================] - 3s 68us/step - loss: 1.1603 - acc: 0.5981 - val_loss: 1.4957 - val_acc: 0.4814\n",
      "Epoch 17/25\n",
      "50000/50000 [==============================] - 3s 68us/step - loss: 1.1350 - acc: 0.6085 - val_loss: 1.4742 - val_acc: 0.4860\n",
      "Epoch 18/25\n",
      "50000/50000 [==============================] - 3s 69us/step - loss: 1.1122 - acc: 0.6170 - val_loss: 1.4600 - val_acc: 0.4892\n",
      "Epoch 19/25\n",
      "50000/50000 [==============================] - 3s 69us/step - loss: 1.0913 - acc: 0.6271 - val_loss: 1.4595 - val_acc: 0.4915\n",
      "Epoch 20/25\n",
      "50000/50000 [==============================] - 3s 68us/step - loss: 1.0703 - acc: 0.6328 - val_loss: 1.4631 - val_acc: 0.4926\n",
      "Epoch 21/25\n",
      "50000/50000 [==============================] - 3s 69us/step - loss: 1.0479 - acc: 0.6424 - val_loss: 1.4543 - val_acc: 0.4910\n",
      "Epoch 22/25\n",
      "50000/50000 [==============================] - 3s 69us/step - loss: 1.0263 - acc: 0.6513 - val_loss: 1.4627 - val_acc: 0.4946\n",
      "Epoch 23/25\n",
      "50000/50000 [==============================] - 3s 68us/step - loss: 1.0065 - acc: 0.6571 - val_loss: 1.4613 - val_acc: 0.4957\n",
      "Epoch 24/25\n",
      "50000/50000 [==============================] - 3s 69us/step - loss: 0.9878 - acc: 0.6658 - val_loss: 1.4704 - val_acc: 0.4969\n",
      "Epoch 25/25\n",
      "50000/50000 [==============================] - 3s 68us/step - loss: 0.9639 - acc: 0.6729 - val_loss: 1.4530 - val_acc: 0.4978\n"
     ]
    }
   ],
   "source": [
    "model = build_mlp(input_shape=x_train.shape[1:])\n",
    "model.summary()\n",
    "optimizer = keras.optimizers.SGD(lr=LEARNING_RATE, nesterov=True, momentum=MOMENTUM)\n",
    "model.compile(loss=\"categorical_crossentropy\", metrics=[\"accuracy\"], optimizer=optimizer)\n",
    "\n",
    "\"\"\"Code Here\n",
    "將 callbacks 放入模型訓練流程中\n",
    "\"\"\"\n",
    "model.fit(x_train, y_train, \n",
    "          epochs=EPOCHS, \n",
    "          batch_size=BATCH_SIZE, \n",
    "          validation_data=(x_test, y_test), \n",
    "          shuffle=True,\n",
    "          callbacks=[rec_tptn]\n",
    "         )\n",
    "\n",
    "# Collect results\n",
    "train_loss = model.history.history[\"loss\"]\n",
    "valid_loss = model.history.history[\"val_loss\"]\n",
    "train_acc = model.history.history[\"acc\"]\n",
    "valid_acc = model.history.history[\"val_acc\"]\n",
    "\n",
    "\"\"\"Code Here\n",
    "將 tp/tn 從訓練完的模型中取出\n",
    "\"\"\"\n",
    "valid_tp = model.history.history['val_tp']\n",
    "valid_tn = model.history.history['val_tn']"
   ]
  },
  {
   "cell_type": "code",
   "execution_count": 9,
   "metadata": {},
   "outputs": [
    {
     "data": {
      "image/png": "[encoded data removed]",
      "text/plain": [
       "<Figure size 432x288 with 1 Axes>"
      ]
     },
     "metadata": {
      "needs_background": "light"
     },
     "output_type": "display_data"
    },
    {
     "data": {
      "image/png": "[encoded data removed]",
      "text/plain": [
       "<Figure size 432x288 with 1 Axes>"
      ]
     },
     "metadata": {
      "needs_background": "light"
     },
     "output_type": "display_data"
    },
    {
     "data": {
      "image/png": "[encoded data removed]",
      "text/plain": [
       "<Figure size 432x288 with 1 Axes>"
      ]
     },
     "metadata": {
      "needs_background": "light"
     },
     "output_type": "display_data"
    }
   ],
   "source": [
    "import matplotlib.pyplot as plt\n",
    "%matplotlib inline\n",
    "\n",
    "plt.plot(range(len(train_loss)), train_loss, label=\"train loss\")\n",
    "plt.plot(range(len(valid_loss)), valid_loss, label=\"valid loss\")\n",
    "plt.legend()\n",
    "plt.title(\"Loss\")\n",
    "plt.show()\n",
    "\n",
    "plt.plot(range(len(train_acc)), train_acc, label=\"train accuracy\")\n",
    "plt.plot(range(len(valid_acc)), valid_acc, label=\"valid accuracy\")\n",
    "plt.legend()\n",
    "plt.title(\"Accuracy\")\n",
    "plt.show()\n",
    "\n",
    "plt.plot(range(len(valid_tp)), valid_tp, label=\"valid tp\", color=\"navy\")\n",
    "plt.plot(range(len(valid_tn)), valid_tn, label=\"valid tn\", color=\"red\")\n",
    "plt.legend()\n",
    "plt.title(\"True positives and True Negatives\")\n",
    "plt.show()\n"
   ]
  },
  {
   "cell_type": "code",
   "execution_count": null,
   "metadata": {},
   "outputs": [],
   "source": []
  }
 ],
 "metadata": {
  "kernelspec": {
   "display_name": "Python 3",
   "language": "python",
   "name": "python3"
  },
  "language_info": {
   "codemirror_mode": {
    "name": "ipython",
    "version": 3
   },
   "file_extension": ".py",
   "mimetype": "text/x-python",
   "name": "python",
   "nbconvert_exporter": "python",
   "pygments_lexer": "ipython3",
   "version": "3.7.3"
  }
 },
 "nbformat": 4,
 "nbformat_minor": 2
}
