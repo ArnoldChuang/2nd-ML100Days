{
 "cells": [
  {
   "cell_type": "markdown",
   "metadata": {},
   "source": [
    "# 作業\n",
    "* 選擇迴歸資料集(右) - 交錯六群，在其他參數保持預設值的情況下，只允許調整隱藏層層數與神經元數量，且遵守下列限制   \n",
    "> * 隱藏層神經元總數最多 8 個 (即 : 可以單層 8 個，或兩層 5 個與 3 個)   \n",
    "> * 遞迴次數只允許跑到500次  \n",
    "* 在上述限制下，挑戰看看測試誤差 (Test Loss) 最低能到多少? 請回答你的神經元參數與 Test Loss 數"
   ]
  },
  {
   "cell_type": "markdown",
   "metadata": {
    "collapsed": true
   },
   "source": []
  },
  {
   "cell_type": "markdown",
   "metadata": {},
   "source": [
    "a.一層, 8\n",
    "Test Loss: 0.018\n",
    "\n",
    "b.兩層, 2,6\n",
    "Test Loss: 0.034\n",
    "\n",
    "c.兩層, 3,5\n",
    "Test Loss: 0.019\n",
    "\n",
    "d.兩層, 4,4\n",
    "Test Loss: 0.014\n",
    "    \n",
    "e.三層, 2,3,3\n",
    "Test Loss: 0.033\n",
    "\n",
    "f.三層, 3,3,2\n",
    "Test Loss: 0.016\n",
    "    \n",
    "g.三層, 3,2,3\n",
    "Test Loss: 0.021\n",
    "    \n",
    "g.四層, 2,2,2,2\n",
    "Test Loss: 0.034\n",
    "    \n",
    "由以上組合可看出,在隱藏層數2,神經元數4,4的情況下Test Loss: 0.014為最佳解"
   ]
  }
 ],
 "metadata": {
  "kernelspec": {
   "display_name": "Python 3",
   "language": "python",
   "name": "python3"
  },
  "language_info": {
   "codemirror_mode": {
    "name": "ipython",
    "version": 3
   },
   "file_extension": ".py",
   "mimetype": "text/x-python",
   "name": "python",
   "nbconvert_exporter": "python",
   "pygments_lexer": "ipython3",
   "version": "3.7.3"
  }
 },
 "nbformat": 4,
 "nbformat_minor": 2
}
