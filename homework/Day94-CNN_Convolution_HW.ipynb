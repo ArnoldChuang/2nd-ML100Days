{
 "cells": [
  {
   "cell_type": "markdown",
   "metadata": {},
   "source": [
    "# 作業目標:\n",
    "    了解 Convolution 卷積的組成"
   ]
  },
  {
   "cell_type": "markdown",
   "metadata": {},
   "source": [
    "# 作業重點:\n",
    "    修改 a_slice_prev, 檢查 Z 的輸出"
   ]
  },
  {
   "cell_type": "code",
   "execution_count": 2,
   "metadata": {},
   "outputs": [],
   "source": [
    "import numpy as np"
   ]
  },
  {
   "cell_type": "code",
   "execution_count": 3,
   "metadata": {},
   "outputs": [],
   "source": [
    "# GRADED FUNCTION: conv_single_step\n",
    "def conv_single_step(a_slice_prev, W, b):\n",
    "    \"\"\"\n",
    "    定義一層 Kernel (內核), 使用的參數說明如下\n",
    "    Arguments:\n",
    "        a_slice_prev -- 輸入資料的維度\n",
    "        W -- 權重, 被使用在 a_slice_prev\n",
    "        b -- 偏差參數 \n",
    "    Returns:\n",
    "        Z -- 滑動窗口（W，b）卷積在前一個 feature map 上的結果\n",
    "    \"\"\"\n",
    "\n",
    "    # 定義一個元素介於 a_slice and W\n",
    "    s = a_slice_prev * W\n",
    "    # 加總所有的 \"s\" 並指定給Z.\n",
    "    Z = np.sum(s)\n",
    "    # Add bias b to Z. 這是 float() 函數,\n",
    "    Z = float(Z + b)\n",
    "\n",
    "    return Z"
   ]
  },
  {
   "cell_type": "code",
   "execution_count": 10,
   "metadata": {},
   "outputs": [
    {
     "name": "stdout",
     "output_type": "stream",
     "text": [
      "a = 4, d =2 \n",
      "Z = -5.107364272571706\n",
      "a = 4, d =3 \n",
      "Z = -6.808293054529864\n",
      "a = 4, d =4 \n",
      "Z = 2.300960810624696\n",
      "a = 6, d =2 \n",
      "Z = -16.82651383001614\n",
      "a = 6, d =3 \n",
      "Z = 27.990621253957624\n",
      "a = 6, d =4 \n",
      "Z = -5.675919262278657\n",
      "a = 8, d =2 \n",
      "Z = -1.617609238685069\n",
      "a = 8, d =3 \n",
      "Z = -15.79419599394815\n",
      "a = 8, d =4 \n",
      "Z = 9.836478471959385\n"
     ]
    }
   ],
   "source": [
    "list_a = [ 4, 6, 8]\n",
    "list_d = [ 2, 3, 4]\n",
    "\n",
    "\n",
    "import itertools\n",
    "\n",
    "np.random.seed(1)\n",
    "for i, (a, d) in enumerate( itertools.product(list_a, list_d) ):\n",
    "    a_slice_prev = np.random.randn(a, a, d)\n",
    "    W = np.random.randn(a, a, d)\n",
    "    b = np.random.randn(1, 1, 1)\n",
    "    \n",
    "    #取得計算後,卷積矩陣的值\n",
    "    Z = conv_single_step(a_slice_prev, W, b)\n",
    "    print(\"a = %i, d =%i \" % ( a, d) )\n",
    "    print(\"Z =\", Z)\n",
    "    "
   ]
  },
  {
   "cell_type": "code",
   "execution_count": null,
   "metadata": {},
   "outputs": [],
   "source": []
  }
 ],
 "metadata": {
  "kernelspec": {
   "display_name": "Python 3",
   "language": "python",
   "name": "python3"
  },
  "language_info": {
   "codemirror_mode": {
    "name": "ipython",
    "version": 3
   },
   "file_extension": ".py",
   "mimetype": "text/x-python",
   "name": "python",
   "nbconvert_exporter": "python",
   "pygments_lexer": "ipython3",
   "version": "3.7.3"
  }
 },
 "nbformat": 4,
 "nbformat_minor": 2
}
