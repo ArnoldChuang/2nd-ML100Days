{
 "cells": [
  {
   "cell_type": "markdown",
   "metadata": {},
   "source": [
    "# 作業\n",
    "* 在精簡深度學習的方式上 : 卷積類神經 (CNN) 採用像素遠近，而遞歸類神經 (RNN) 採用著則是時間遠近\n",
    "* 那麼，既然有著類似的設計精神，兩者是否有可能互換應用呢?"
   ]
  },
  {
   "cell_type": "code",
   "execution_count": null,
   "metadata": {
    "collapsed": true
   },
   "outputs": [],
   "source": [
    "1.CNN特性:參考像素遠近省略神經元，並且用影像特徵的平移不變性來共⽤權重\n",
    "     應用:只要符合上述兩種特性的皆可應用\n",
    "2.RNN特性:RNN 看似在 NN 外增加了時序間的橫向傳遞，但實際上還是依照時間遠近省略了部分連結\n",
    "     應用:資料是有順序性的應⽤，都可以使⽤ RNN 來計算\n",
    "            \n",
    "由以上的特點來看,影像抑是有順序性的可用RNN,也可用CNN,因此有些問題可能皆符合CNN與RNN的特性所以可互相應用"
   ]
  }
 ],
 "metadata": {
  "kernelspec": {
   "display_name": "Python 3",
   "language": "python",
   "name": "python3"
  },
  "language_info": {
   "codemirror_mode": {
    "name": "ipython",
    "version": 3
   },
   "file_extension": ".py",
   "mimetype": "text/x-python",
   "name": "python",
   "nbconvert_exporter": "python",
   "pygments_lexer": "ipython3",
   "version": "3.7.3"
  }
 },
 "nbformat": 4,
 "nbformat_minor": 2
}
