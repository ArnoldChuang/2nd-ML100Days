{
 "cells": [
  {
   "cell_type": "markdown",
   "metadata": {},
   "source": [
    "## 練習時間\n",
    "相信大家對回歸問題及分類問題都有初步的了解。今天的作業希望大家搜尋有關 multi-label 的案例問題。下圖是電影 \"奇異博士\" 的分類。可以看到同時有 \"Action\", \"Adventure\", \"Fantasy\" 的類別存在，代表這是個多標籤的問題。 "
   ]
  },
  {
   "cell_type": "markdown",
   "metadata": {},
   "source": [
    "![image](https://cdn-images-1.medium.com/max/1000/1*r0gYXMSQf5VhdMyl2bRDyg.png)"
   ]
  },
  {
   "cell_type": "markdown",
   "metadata": {},
   "source": [
    "## 請搜尋目標為多標籤問題 (Multi-label) 的機器學習案例，了解其資料來源、目標以及評估指標為何\n",
    "## Hint: 服飾"
   ]
  },
  {
   "cell_type": "markdown",
   "metadata": {},
   "source": [
    "Multi-label 機器學習案例 : 服飾\n",
    "\n",
    "服飾的多類別標籤如下:\n",
    "類別：襯衫、裙子、褲子、鞋類等\n",
    "顏色：紅、藍、黑等\n",
    "質地：棉、羊毛、絲、麻等\n",
    "\n",
    "目標:訓練一個多標籤分類器來預測衣服的顏色以及類別\n",
    "\n",
    "評估指標:分類器會將輸入的服飾,基於相關機率將數組索引按降序排序\n",
    "        獲取前兩個類標籤的索引，最後觀測分類器的結果是否正確預測出該服飾的顏色以及種類\n",
    "\n",
    "原文網址：https://kknews.cc/zh-tw/other/ygpkm4j.html"
   ]
  }
 ],
 "metadata": {
  "kernelspec": {
   "display_name": "Python 3",
   "language": "python",
   "name": "python3"
  },
  "language_info": {
   "codemirror_mode": {
    "name": "ipython",
    "version": 3
   },
   "file_extension": ".py",
   "mimetype": "text/x-python",
   "name": "python",
   "nbconvert_exporter": "python",
   "pygments_lexer": "ipython3",
   "version": "3.7.3"
  }
 },
 "nbformat": 4,
 "nbformat_minor": 2
}
