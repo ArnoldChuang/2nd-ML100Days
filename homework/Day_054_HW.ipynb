{
 "cells": [
  {
   "cell_type": "markdown",
   "metadata": {},
   "source": [
    "# 作業\n",
    "* 試著想想看, 非監督學習是否有可能使用評價函數 (Metric) 來鑑別好壞呢?  \n",
    "(Hint : 可以分為 \"有目標值\" 與 \"無目標值\" 兩個方向思考)"
   ]
  },
  {
   "cell_type": "markdown",
   "metadata": {
    "collapsed": true
   },
   "source": [
    "ans: 非監督學習的使用時機大多是不清楚資料特性、問題定義、沒有標記的情況,用來理清資料脈絡,然而要評鑑結果的好與壞需要有明確的結果目標,\n",
    "     因此較難以用評價函數 (Metric) 來鑑別好壞"
   ]
  },
  {
   "cell_type": "markdown",
   "metadata": {},
   "source": [
    "ps:非監督式學習->就是你得到的資料你沒有任何Ground truth，你只有資料本身\n",
    "   舉例，我給你一組身高和體重的資料，但我沒有跟你說這組資料哪些是男生哪些是女生。\n",
    "   我希望你用這組資料分出男生女生，這種時候就是用非監督式學習"
   ]
  }
 ],
 "metadata": {
  "kernelspec": {
   "display_name": "Python 3",
   "language": "python",
   "name": "python3"
  },
  "language_info": {
   "codemirror_mode": {
    "name": "ipython",
    "version": 3
   },
   "file_extension": ".py",
   "mimetype": "text/x-python",
   "name": "python",
   "nbconvert_exporter": "python",
   "pygments_lexer": "ipython3",
   "version": "3.7.3"
  }
 },
 "nbformat": 4,
 "nbformat_minor": 1
}
